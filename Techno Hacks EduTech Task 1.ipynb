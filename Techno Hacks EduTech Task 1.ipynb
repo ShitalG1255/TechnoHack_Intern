{
 "cells": [
  {
   "cell_type": "markdown",
   "id": "c6d349db",
   "metadata": {},
   "source": [
    "## Name :- Shital Ashok Gaikwad\n",
    "\n",
    "### TechnoHacksEdutech Intern Task 1 :- House Price Prediction\n"
   ]
  },
  {
   "cell_type": "markdown",
   "id": "2873c169",
   "metadata": {},
   "source": [
    "### Import Libraries"
   ]
  },
  {
   "cell_type": "code",
   "execution_count": 1,
   "id": "1260ccc5",
   "metadata": {},
   "outputs": [],
   "source": [
    "import pandas as pd\n",
    "import numpy as np\n",
    "import matplotlib.pyplot as plt\n",
    "import seaborn as sns\n",
    "from sklearn.preprocessing import LabelEncoder,StandardScaler\n",
    "from sklearn.model_selection import train_test_split\n",
    "from sklearn.linear_model import LinearRegression\n",
    "from scipy.stats import norm,kurtosis,skew"
   ]
  },
  {
   "cell_type": "markdown",
   "id": "62c1a788",
   "metadata": {},
   "source": [
    "### Import Datasets i.e. Training & Testing\n",
    "### Training dataset"
   ]
  },
  {
   "cell_type": "code",
   "execution_count": 2,
   "id": "299e4c6a",
   "metadata": {},
   "outputs": [
    {
     "data": {
      "text/html": [
       "<div>\n",
       "<style scoped>\n",
       "    .dataframe tbody tr th:only-of-type {\n",
       "        vertical-align: middle;\n",
       "    }\n",
       "\n",
       "    .dataframe tbody tr th {\n",
       "        vertical-align: top;\n",
       "    }\n",
       "\n",
       "    .dataframe thead th {\n",
       "        text-align: right;\n",
       "    }\n",
       "</style>\n",
       "<table border=\"1\" class=\"dataframe\">\n",
       "  <thead>\n",
       "    <tr style=\"text-align: right;\">\n",
       "      <th></th>\n",
       "      <th>POSTED_BY</th>\n",
       "      <th>UNDER_CONSTRUCTION</th>\n",
       "      <th>RERA</th>\n",
       "      <th>BHK_NO.</th>\n",
       "      <th>BHK_OR_RK</th>\n",
       "      <th>SQUARE_FT</th>\n",
       "      <th>READY_TO_MOVE</th>\n",
       "      <th>RESALE</th>\n",
       "      <th>ADDRESS</th>\n",
       "      <th>LONGITUDE</th>\n",
       "      <th>LATITUDE</th>\n",
       "      <th>TARGET(PRICE_IN_LACS)</th>\n",
       "    </tr>\n",
       "  </thead>\n",
       "  <tbody>\n",
       "    <tr>\n",
       "      <th>0</th>\n",
       "      <td>Owner</td>\n",
       "      <td>0</td>\n",
       "      <td>0</td>\n",
       "      <td>2</td>\n",
       "      <td>BHK</td>\n",
       "      <td>1300.236407</td>\n",
       "      <td>1</td>\n",
       "      <td>1</td>\n",
       "      <td>Ksfc Layout,Bangalore</td>\n",
       "      <td>12.969910</td>\n",
       "      <td>77.597960</td>\n",
       "      <td>55.0</td>\n",
       "    </tr>\n",
       "    <tr>\n",
       "      <th>1</th>\n",
       "      <td>Dealer</td>\n",
       "      <td>0</td>\n",
       "      <td>0</td>\n",
       "      <td>2</td>\n",
       "      <td>BHK</td>\n",
       "      <td>1275.000000</td>\n",
       "      <td>1</td>\n",
       "      <td>1</td>\n",
       "      <td>Vishweshwara Nagar,Mysore</td>\n",
       "      <td>12.274538</td>\n",
       "      <td>76.644605</td>\n",
       "      <td>51.0</td>\n",
       "    </tr>\n",
       "    <tr>\n",
       "      <th>2</th>\n",
       "      <td>Owner</td>\n",
       "      <td>0</td>\n",
       "      <td>0</td>\n",
       "      <td>2</td>\n",
       "      <td>BHK</td>\n",
       "      <td>933.159722</td>\n",
       "      <td>1</td>\n",
       "      <td>1</td>\n",
       "      <td>Jigani,Bangalore</td>\n",
       "      <td>12.778033</td>\n",
       "      <td>77.632191</td>\n",
       "      <td>43.0</td>\n",
       "    </tr>\n",
       "    <tr>\n",
       "      <th>3</th>\n",
       "      <td>Owner</td>\n",
       "      <td>0</td>\n",
       "      <td>1</td>\n",
       "      <td>2</td>\n",
       "      <td>BHK</td>\n",
       "      <td>929.921143</td>\n",
       "      <td>1</td>\n",
       "      <td>1</td>\n",
       "      <td>Sector-1 Vaishali,Ghaziabad</td>\n",
       "      <td>28.642300</td>\n",
       "      <td>77.344500</td>\n",
       "      <td>62.5</td>\n",
       "    </tr>\n",
       "    <tr>\n",
       "      <th>4</th>\n",
       "      <td>Dealer</td>\n",
       "      <td>1</td>\n",
       "      <td>0</td>\n",
       "      <td>2</td>\n",
       "      <td>BHK</td>\n",
       "      <td>999.009247</td>\n",
       "      <td>0</td>\n",
       "      <td>1</td>\n",
       "      <td>New Town,Kolkata</td>\n",
       "      <td>22.592200</td>\n",
       "      <td>88.484911</td>\n",
       "      <td>60.5</td>\n",
       "    </tr>\n",
       "  </tbody>\n",
       "</table>\n",
       "</div>"
      ],
      "text/plain": [
       "  POSTED_BY  UNDER_CONSTRUCTION  RERA  BHK_NO. BHK_OR_RK    SQUARE_FT  \\\n",
       "0     Owner                   0     0        2       BHK  1300.236407   \n",
       "1    Dealer                   0     0        2       BHK  1275.000000   \n",
       "2     Owner                   0     0        2       BHK   933.159722   \n",
       "3     Owner                   0     1        2       BHK   929.921143   \n",
       "4    Dealer                   1     0        2       BHK   999.009247   \n",
       "\n",
       "   READY_TO_MOVE  RESALE                      ADDRESS  LONGITUDE   LATITUDE  \\\n",
       "0              1       1        Ksfc Layout,Bangalore  12.969910  77.597960   \n",
       "1              1       1    Vishweshwara Nagar,Mysore  12.274538  76.644605   \n",
       "2              1       1             Jigani,Bangalore  12.778033  77.632191   \n",
       "3              1       1  Sector-1 Vaishali,Ghaziabad  28.642300  77.344500   \n",
       "4              0       1             New Town,Kolkata  22.592200  88.484911   \n",
       "\n",
       "   TARGET(PRICE_IN_LACS)  \n",
       "0                   55.0  \n",
       "1                   51.0  \n",
       "2                   43.0  \n",
       "3                   62.5  \n",
       "4                   60.5  "
      ]
     },
     "execution_count": 2,
     "metadata": {},
     "output_type": "execute_result"
    }
   ],
   "source": [
    "train_data=pd.read_csv(r\"D:\\Datasets\\house_price_train.csv\")\n",
    "train_data.head()"
   ]
  },
  {
   "cell_type": "markdown",
   "id": "3830e979",
   "metadata": {},
   "source": [
    "### Basic Information About data"
   ]
  },
  {
   "cell_type": "code",
   "execution_count": 3,
   "id": "31c56905",
   "metadata": {},
   "outputs": [
    {
     "name": "stdout",
     "output_type": "stream",
     "text": [
      "<class 'pandas.core.frame.DataFrame'>\n",
      "RangeIndex: 29451 entries, 0 to 29450\n",
      "Data columns (total 12 columns):\n",
      " #   Column                 Non-Null Count  Dtype  \n",
      "---  ------                 --------------  -----  \n",
      " 0   POSTED_BY              29451 non-null  object \n",
      " 1   UNDER_CONSTRUCTION     29451 non-null  int64  \n",
      " 2   RERA                   29451 non-null  int64  \n",
      " 3   BHK_NO.                29451 non-null  int64  \n",
      " 4   BHK_OR_RK              29451 non-null  object \n",
      " 5   SQUARE_FT              29451 non-null  float64\n",
      " 6   READY_TO_MOVE          29451 non-null  int64  \n",
      " 7   RESALE                 29451 non-null  int64  \n",
      " 8   ADDRESS                29451 non-null  object \n",
      " 9   LONGITUDE              29451 non-null  float64\n",
      " 10  LATITUDE               29451 non-null  float64\n",
      " 11  TARGET(PRICE_IN_LACS)  29451 non-null  float64\n",
      "dtypes: float64(4), int64(5), object(3)\n",
      "memory usage: 2.7+ MB\n"
     ]
    }
   ],
   "source": [
    "train_data.info()"
   ]
  },
  {
   "cell_type": "markdown",
   "id": "02ce6aff",
   "metadata": {},
   "source": [
    "### Basic statistical information about dataset."
   ]
  },
  {
   "cell_type": "code",
   "execution_count": 4,
   "id": "2b6ca645",
   "metadata": {},
   "outputs": [
    {
     "data": {
      "text/html": [
       "<div>\n",
       "<style scoped>\n",
       "    .dataframe tbody tr th:only-of-type {\n",
       "        vertical-align: middle;\n",
       "    }\n",
       "\n",
       "    .dataframe tbody tr th {\n",
       "        vertical-align: top;\n",
       "    }\n",
       "\n",
       "    .dataframe thead th {\n",
       "        text-align: right;\n",
       "    }\n",
       "</style>\n",
       "<table border=\"1\" class=\"dataframe\">\n",
       "  <thead>\n",
       "    <tr style=\"text-align: right;\">\n",
       "      <th></th>\n",
       "      <th>UNDER_CONSTRUCTION</th>\n",
       "      <th>RERA</th>\n",
       "      <th>BHK_NO.</th>\n",
       "      <th>SQUARE_FT</th>\n",
       "      <th>READY_TO_MOVE</th>\n",
       "      <th>RESALE</th>\n",
       "      <th>LONGITUDE</th>\n",
       "      <th>LATITUDE</th>\n",
       "      <th>TARGET(PRICE_IN_LACS)</th>\n",
       "    </tr>\n",
       "  </thead>\n",
       "  <tbody>\n",
       "    <tr>\n",
       "      <th>count</th>\n",
       "      <td>29451.000000</td>\n",
       "      <td>29451.000000</td>\n",
       "      <td>29451.000000</td>\n",
       "      <td>2.945100e+04</td>\n",
       "      <td>29451.000000</td>\n",
       "      <td>29451.000000</td>\n",
       "      <td>29451.000000</td>\n",
       "      <td>29451.000000</td>\n",
       "      <td>29451.000000</td>\n",
       "    </tr>\n",
       "    <tr>\n",
       "      <th>mean</th>\n",
       "      <td>0.179756</td>\n",
       "      <td>0.317918</td>\n",
       "      <td>2.392279</td>\n",
       "      <td>1.980217e+04</td>\n",
       "      <td>0.820244</td>\n",
       "      <td>0.929578</td>\n",
       "      <td>21.300255</td>\n",
       "      <td>76.837695</td>\n",
       "      <td>142.898746</td>\n",
       "    </tr>\n",
       "    <tr>\n",
       "      <th>std</th>\n",
       "      <td>0.383991</td>\n",
       "      <td>0.465675</td>\n",
       "      <td>0.879091</td>\n",
       "      <td>1.901335e+06</td>\n",
       "      <td>0.383991</td>\n",
       "      <td>0.255861</td>\n",
       "      <td>6.205306</td>\n",
       "      <td>10.557747</td>\n",
       "      <td>656.880713</td>\n",
       "    </tr>\n",
       "    <tr>\n",
       "      <th>min</th>\n",
       "      <td>0.000000</td>\n",
       "      <td>0.000000</td>\n",
       "      <td>1.000000</td>\n",
       "      <td>3.000000e+00</td>\n",
       "      <td>0.000000</td>\n",
       "      <td>0.000000</td>\n",
       "      <td>-37.713008</td>\n",
       "      <td>-121.761248</td>\n",
       "      <td>0.250000</td>\n",
       "    </tr>\n",
       "    <tr>\n",
       "      <th>25%</th>\n",
       "      <td>0.000000</td>\n",
       "      <td>0.000000</td>\n",
       "      <td>2.000000</td>\n",
       "      <td>9.000211e+02</td>\n",
       "      <td>1.000000</td>\n",
       "      <td>1.000000</td>\n",
       "      <td>18.452663</td>\n",
       "      <td>73.798100</td>\n",
       "      <td>38.000000</td>\n",
       "    </tr>\n",
       "    <tr>\n",
       "      <th>50%</th>\n",
       "      <td>0.000000</td>\n",
       "      <td>0.000000</td>\n",
       "      <td>2.000000</td>\n",
       "      <td>1.175057e+03</td>\n",
       "      <td>1.000000</td>\n",
       "      <td>1.000000</td>\n",
       "      <td>20.750000</td>\n",
       "      <td>77.324137</td>\n",
       "      <td>62.000000</td>\n",
       "    </tr>\n",
       "    <tr>\n",
       "      <th>75%</th>\n",
       "      <td>0.000000</td>\n",
       "      <td>1.000000</td>\n",
       "      <td>3.000000</td>\n",
       "      <td>1.550688e+03</td>\n",
       "      <td>1.000000</td>\n",
       "      <td>1.000000</td>\n",
       "      <td>26.900926</td>\n",
       "      <td>77.828740</td>\n",
       "      <td>100.000000</td>\n",
       "    </tr>\n",
       "    <tr>\n",
       "      <th>max</th>\n",
       "      <td>1.000000</td>\n",
       "      <td>1.000000</td>\n",
       "      <td>20.000000</td>\n",
       "      <td>2.545455e+08</td>\n",
       "      <td>1.000000</td>\n",
       "      <td>1.000000</td>\n",
       "      <td>59.912884</td>\n",
       "      <td>152.962676</td>\n",
       "      <td>30000.000000</td>\n",
       "    </tr>\n",
       "  </tbody>\n",
       "</table>\n",
       "</div>"
      ],
      "text/plain": [
       "       UNDER_CONSTRUCTION          RERA       BHK_NO.     SQUARE_FT  \\\n",
       "count        29451.000000  29451.000000  29451.000000  2.945100e+04   \n",
       "mean             0.179756      0.317918      2.392279  1.980217e+04   \n",
       "std              0.383991      0.465675      0.879091  1.901335e+06   \n",
       "min              0.000000      0.000000      1.000000  3.000000e+00   \n",
       "25%              0.000000      0.000000      2.000000  9.000211e+02   \n",
       "50%              0.000000      0.000000      2.000000  1.175057e+03   \n",
       "75%              0.000000      1.000000      3.000000  1.550688e+03   \n",
       "max              1.000000      1.000000     20.000000  2.545455e+08   \n",
       "\n",
       "       READY_TO_MOVE        RESALE     LONGITUDE      LATITUDE  \\\n",
       "count   29451.000000  29451.000000  29451.000000  29451.000000   \n",
       "mean        0.820244      0.929578     21.300255     76.837695   \n",
       "std         0.383991      0.255861      6.205306     10.557747   \n",
       "min         0.000000      0.000000    -37.713008   -121.761248   \n",
       "25%         1.000000      1.000000     18.452663     73.798100   \n",
       "50%         1.000000      1.000000     20.750000     77.324137   \n",
       "75%         1.000000      1.000000     26.900926     77.828740   \n",
       "max         1.000000      1.000000     59.912884    152.962676   \n",
       "\n",
       "       TARGET(PRICE_IN_LACS)  \n",
       "count           29451.000000  \n",
       "mean              142.898746  \n",
       "std               656.880713  \n",
       "min                 0.250000  \n",
       "25%                38.000000  \n",
       "50%                62.000000  \n",
       "75%               100.000000  \n",
       "max             30000.000000  "
      ]
     },
     "execution_count": 4,
     "metadata": {},
     "output_type": "execute_result"
    }
   ],
   "source": [
    "train_data.describe()"
   ]
  },
  {
   "cell_type": "markdown",
   "id": "ce369d2c",
   "metadata": {},
   "source": [
    "# Total rows and columns in the training data."
   ]
  },
  {
   "cell_type": "code",
   "execution_count": 5,
   "id": "987cbbec",
   "metadata": {},
   "outputs": [
    {
     "data": {
      "text/plain": [
       "(29451, 12)"
      ]
     },
     "execution_count": 5,
     "metadata": {},
     "output_type": "execute_result"
    }
   ],
   "source": [
    "train_data.shape"
   ]
  },
  {
   "cell_type": "markdown",
   "id": "7ff92aaf",
   "metadata": {},
   "source": [
    "### Result:-"
   ]
  },
  {
   "cell_type": "markdown",
   "id": "638fae1b",
   "metadata": {},
   "source": [
    "* Here 29451 rows & 12 columns present in the dataset."
   ]
  },
  {
   "cell_type": "markdown",
   "id": "92b11aee",
   "metadata": {},
   "source": [
    "## Data Preprocessing"
   ]
  },
  {
   "cell_type": "markdown",
   "id": "46c01742",
   "metadata": {},
   "source": [
    "### Null Value Handling"
   ]
  },
  {
   "cell_type": "code",
   "execution_count": 6,
   "id": "cd897a4b",
   "metadata": {},
   "outputs": [
    {
     "data": {
      "text/plain": [
       "POSTED_BY                False\n",
       "UNDER_CONSTRUCTION       False\n",
       "RERA                     False\n",
       "BHK_NO.                  False\n",
       "BHK_OR_RK                False\n",
       "SQUARE_FT                False\n",
       "READY_TO_MOVE            False\n",
       "RESALE                   False\n",
       "ADDRESS                  False\n",
       "LONGITUDE                False\n",
       "LATITUDE                 False\n",
       "TARGET(PRICE_IN_LACS)    False\n",
       "dtype: bool"
      ]
     },
     "execution_count": 6,
     "metadata": {},
     "output_type": "execute_result"
    }
   ],
   "source": [
    "train_data.isnull().any()"
   ]
  },
  {
   "cell_type": "code",
   "execution_count": 7,
   "id": "3daf2990",
   "metadata": {},
   "outputs": [
    {
     "data": {
      "text/plain": [
       "POSTED_BY                0\n",
       "UNDER_CONSTRUCTION       0\n",
       "RERA                     0\n",
       "BHK_NO.                  0\n",
       "BHK_OR_RK                0\n",
       "SQUARE_FT                0\n",
       "READY_TO_MOVE            0\n",
       "RESALE                   0\n",
       "ADDRESS                  0\n",
       "LONGITUDE                0\n",
       "LATITUDE                 0\n",
       "TARGET(PRICE_IN_LACS)    0\n",
       "dtype: int64"
      ]
     },
     "execution_count": 7,
     "metadata": {},
     "output_type": "execute_result"
    }
   ],
   "source": [
    "train_data.isnull().sum()"
   ]
  },
  {
   "cell_type": "markdown",
   "id": "fc605daa",
   "metadata": {},
   "source": [
    "### result:-\n",
    "* There is null values present in dataset.\n"
   ]
  },
  {
   "cell_type": "markdown",
   "id": "fc693d64",
   "metadata": {},
   "source": [
    "### Duplicate values"
   ]
  },
  {
   "cell_type": "code",
   "execution_count": 8,
   "id": "2bda3766",
   "metadata": {},
   "outputs": [
    {
     "data": {
      "text/plain": [
       "401"
      ]
     },
     "execution_count": 8,
     "metadata": {},
     "output_type": "execute_result"
    }
   ],
   "source": [
    "train_data.duplicated().any()\n",
    "\n",
    "train_data.duplicated().sum()"
   ]
  },
  {
   "cell_type": "markdown",
   "id": "2b280d59",
   "metadata": {},
   "source": [
    "### Result:-\n",
    "* There are 401 duplicate values present in our dataset.\n"
   ]
  },
  {
   "cell_type": "markdown",
   "id": "7b348a1a",
   "metadata": {},
   "source": [
    "### Duplicate Data Handling"
   ]
  },
  {
   "cell_type": "markdown",
   "id": "bc8d50e4",
   "metadata": {},
   "source": [
    "# Lets try to remove that duplicate data."
   ]
  },
  {
   "cell_type": "code",
   "execution_count": 9,
   "id": "84c0c8aa",
   "metadata": {},
   "outputs": [],
   "source": [
    "Train_data=train_data.drop_duplicates()"
   ]
  },
  {
   "cell_type": "code",
   "execution_count": 10,
   "id": "f83253fc",
   "metadata": {},
   "outputs": [
    {
     "data": {
      "text/plain": [
       "(29050, 12)"
      ]
     },
     "execution_count": 10,
     "metadata": {},
     "output_type": "execute_result"
    }
   ],
   "source": [
    "Train_data.shape"
   ]
  },
  {
   "cell_type": "markdown",
   "id": "89309687",
   "metadata": {},
   "source": [
    "### Result:-\n",
    "* 401 Duplicate values are removed from the dataset.\n"
   ]
  },
  {
   "cell_type": "code",
   "execution_count": 11,
   "id": "389e3a1b",
   "metadata": {},
   "outputs": [
    {
     "data": {
      "text/plain": [
       "0"
      ]
     },
     "execution_count": 11,
     "metadata": {},
     "output_type": "execute_result"
    }
   ],
   "source": [
    "# Lets check the duplicate data is present or not in our dataset.\n",
    "Train_data.duplicated().sum()\n"
   ]
  },
  {
   "cell_type": "markdown",
   "id": "00677a4d",
   "metadata": {},
   "source": [
    "### Result:-\n",
    "* There is no duplicate data present in our dataset.\n"
   ]
  },
  {
   "cell_type": "markdown",
   "id": "4d7cdc84",
   "metadata": {},
   "source": [
    "### Lets find out how many city are present in dataset."
   ]
  },
  {
   "cell_type": "code",
   "execution_count": 12,
   "id": "79477831",
   "metadata": {},
   "outputs": [
    {
     "data": {
      "text/plain": [
       "6899"
      ]
     },
     "execution_count": 12,
     "metadata": {},
     "output_type": "execute_result"
    }
   ],
   "source": [
    "# Lets check how many unique values are present in the Address column.\n",
    "Train_data[\"ADDRESS\"].nunique()"
   ]
  },
  {
   "cell_type": "code",
   "execution_count": 13,
   "id": "fa89e6ed",
   "metadata": {},
   "outputs": [
    {
     "name": "stderr",
     "output_type": "stream",
     "text": [
      "C:\\Users\\shita\\AppData\\Local\\Temp\\ipykernel_7596\\341450388.py:2: SettingWithCopyWarning: \n",
      "A value is trying to be set on a copy of a slice from a DataFrame.\n",
      "Try using .loc[row_indexer,col_indexer] = value instead\n",
      "\n",
      "See the caveats in the documentation: https://pandas.pydata.org/pandas-docs/stable/user_guide/indexing.html#returning-a-view-versus-a-copy\n",
      "  Train_data[\"CITY\"]=Train_data[\"ADDRESS\"].str.split(\",\").str.get(1)\n"
     ]
    }
   ],
   "source": [
    "# Find unique city name from the adress column and store it in new variable.\n",
    "Train_data[\"CITY\"]=Train_data[\"ADDRESS\"].str.split(\",\").str.get(1)"
   ]
  },
  {
   "cell_type": "code",
   "execution_count": 14,
   "id": "76a11ea5",
   "metadata": {},
   "outputs": [
    {
     "data": {
      "text/plain": [
       "433"
      ]
     },
     "execution_count": 14,
     "metadata": {},
     "output_type": "execute_result"
    }
   ],
   "source": [
    "Train_data[\"CITY\"].nunique()"
   ]
  },
  {
   "cell_type": "markdown",
   "id": "c7c2c9f8",
   "metadata": {},
   "source": [
    "## Result:-\n",
    "* All unique city name are stored in City column."
   ]
  },
  {
   "cell_type": "markdown",
   "id": "c0b46cf9",
   "metadata": {},
   "source": [
    "### Unique City names from the dataset."
   ]
  },
  {
   "cell_type": "code",
   "execution_count": 15,
   "id": "402cb601",
   "metadata": {},
   "outputs": [
    {
     "name": "stdout",
     "output_type": "stream",
     "text": [
      "Top 10 city name which has max house for selling ['Bangalore' 'Mysore' 'Ghaziabad' 'Kolkata' 'Kochi' 'Jaipur' 'Mohali'\n",
      " 'Chennai']\n"
     ]
    }
   ],
   "source": [
    "city=Train_data[\"CITY\"].head(10).unique()\n",
    "print(\"Top 10 city name which has max house for selling\",city)"
   ]
  },
  {
   "cell_type": "markdown",
   "id": "e18a2c01",
   "metadata": {},
   "source": [
    "### Find out Top 10 city name and visualize it."
   ]
  },
  {
   "cell_type": "code",
   "execution_count": 16,
   "id": "78ca2842",
   "metadata": {},
   "outputs": [
    {
     "data": {
      "text/plain": [
       "([0, 1, 2, 3, 4, 5, 6, 7, 8, 9],\n",
       " [Text(0, 0, ''),\n",
       "  Text(0, 0, ''),\n",
       "  Text(0, 0, ''),\n",
       "  Text(0, 0, ''),\n",
       "  Text(0, 0, ''),\n",
       "  Text(0, 0, ''),\n",
       "  Text(0, 0, ''),\n",
       "  Text(0, 0, ''),\n",
       "  Text(0, 0, ''),\n",
       "  Text(0, 0, '')])"
      ]
     },
     "execution_count": 16,
     "metadata": {},
     "output_type": "execute_result"
    },
    {
     "data": {
      "image/png": "[encoded data removed]",
      "text/plain": [
       "<Figure size 1080x432 with 1 Axes>"
      ]
     },
     "metadata": {
      "needs_background": "light"
     },
     "output_type": "display_data"
    }
   ],
   "source": [
    "plt.figure(figsize=(15,6))\n",
    "plt.plot(Train_data[\"CITY\"].value_counts().head(10))\n",
    "plt.title(\"Top 10 city which has max house for selling \",pad=20,fontsize=20,color=\"purple\")\n",
    "plt.xlabel(\"City Names\",fontsize=15)\n",
    "plt.ylabel(\"Number\",fontsize=15)\n",
    "plt.xticks(rotation=45)"
   ]
  },
  {
   "cell_type": "code",
   "execution_count": 17,
   "id": "d4545900",
   "metadata": {},
   "outputs": [
    {
     "data": {
      "text/plain": [
       "Text(0.5, 1.0, 'Pie chart')"
      ]
     },
     "execution_count": 17,
     "metadata": {},
     "output_type": "execute_result"
    },
    {
     "data": {
      "image/png": "[encoded data removed]",
      "text/plain": [
       "<Figure size 1080x432 with 1 Axes>"
      ]
     },
     "metadata": {},
     "output_type": "display_data"
    }
   ],
   "source": [
    "plt.figure(figsize=(15,6))\n",
    "Train_data[\"CITY\"].value_counts().head(10).plot(kind=\"pie\",autopct=\"%1.1f%%\",explode=[0.05]*10)\n",
    "plt.title(\"Pie chart\")"
   ]
  },
  {
   "cell_type": "markdown",
   "id": "7f01aed4",
   "metadata": {},
   "source": [
    "### Result:-\n",
    "* Most of the houses are belongs to the Banglore site."
   ]
  },
  {
   "cell_type": "code",
   "execution_count": 18,
   "id": "ce25748c",
   "metadata": {},
   "outputs": [],
   "source": [
    "del Train_data[\"ADDRESS\"]"
   ]
  },
  {
   "cell_type": "markdown",
   "id": "0a8aff8d",
   "metadata": {},
   "source": [
    "### Data Labelling"
   ]
  },
  {
   "cell_type": "code",
   "execution_count": 19,
   "id": "45f7644b",
   "metadata": {},
   "outputs": [
    {
     "name": "stderr",
     "output_type": "stream",
     "text": [
      "C:\\Users\\shita\\AppData\\Local\\Temp\\ipykernel_7596\\2277289506.py:5: SettingWithCopyWarning: \n",
      "A value is trying to be set on a copy of a slice from a DataFrame.\n",
      "Try using .loc[row_indexer,col_indexer] = value instead\n",
      "\n",
      "See the caveats in the documentation: https://pandas.pydata.org/pandas-docs/stable/user_guide/indexing.html#returning-a-view-versus-a-copy\n",
      "  Train_data[i]=le.fit_transform(Train_data[i])\n"
     ]
    },
    {
     "data": {
      "text/html": [
       "<div>\n",
       "<style scoped>\n",
       "    .dataframe tbody tr th:only-of-type {\n",
       "        vertical-align: middle;\n",
       "    }\n",
       "\n",
       "    .dataframe tbody tr th {\n",
       "        vertical-align: top;\n",
       "    }\n",
       "\n",
       "    .dataframe thead th {\n",
       "        text-align: right;\n",
       "    }\n",
       "</style>\n",
       "<table border=\"1\" class=\"dataframe\">\n",
       "  <thead>\n",
       "    <tr style=\"text-align: right;\">\n",
       "      <th></th>\n",
       "      <th>POSTED_BY</th>\n",
       "      <th>UNDER_CONSTRUCTION</th>\n",
       "      <th>RERA</th>\n",
       "      <th>BHK_NO.</th>\n",
       "      <th>BHK_OR_RK</th>\n",
       "      <th>SQUARE_FT</th>\n",
       "      <th>READY_TO_MOVE</th>\n",
       "      <th>RESALE</th>\n",
       "      <th>LONGITUDE</th>\n",
       "      <th>LATITUDE</th>\n",
       "      <th>TARGET(PRICE_IN_LACS)</th>\n",
       "      <th>CITY</th>\n",
       "    </tr>\n",
       "  </thead>\n",
       "  <tbody>\n",
       "    <tr>\n",
       "      <th>0</th>\n",
       "      <td>2</td>\n",
       "      <td>0</td>\n",
       "      <td>0</td>\n",
       "      <td>2</td>\n",
       "      <td>0</td>\n",
       "      <td>1300.236407</td>\n",
       "      <td>1</td>\n",
       "      <td>1</td>\n",
       "      <td>12.969910</td>\n",
       "      <td>77.597960</td>\n",
       "      <td>55.0</td>\n",
       "      <td>167</td>\n",
       "    </tr>\n",
       "    <tr>\n",
       "      <th>1</th>\n",
       "      <td>1</td>\n",
       "      <td>0</td>\n",
       "      <td>0</td>\n",
       "      <td>2</td>\n",
       "      <td>0</td>\n",
       "      <td>1275.000000</td>\n",
       "      <td>1</td>\n",
       "      <td>1</td>\n",
       "      <td>12.274538</td>\n",
       "      <td>76.644605</td>\n",
       "      <td>51.0</td>\n",
       "      <td>313</td>\n",
       "    </tr>\n",
       "    <tr>\n",
       "      <th>2</th>\n",
       "      <td>2</td>\n",
       "      <td>0</td>\n",
       "      <td>0</td>\n",
       "      <td>2</td>\n",
       "      <td>0</td>\n",
       "      <td>933.159722</td>\n",
       "      <td>1</td>\n",
       "      <td>1</td>\n",
       "      <td>12.778033</td>\n",
       "      <td>77.632191</td>\n",
       "      <td>43.0</td>\n",
       "      <td>167</td>\n",
       "    </tr>\n",
       "    <tr>\n",
       "      <th>3</th>\n",
       "      <td>2</td>\n",
       "      <td>0</td>\n",
       "      <td>1</td>\n",
       "      <td>2</td>\n",
       "      <td>0</td>\n",
       "      <td>929.921143</td>\n",
       "      <td>1</td>\n",
       "      <td>1</td>\n",
       "      <td>28.642300</td>\n",
       "      <td>77.344500</td>\n",
       "      <td>62.5</td>\n",
       "      <td>227</td>\n",
       "    </tr>\n",
       "    <tr>\n",
       "      <th>4</th>\n",
       "      <td>1</td>\n",
       "      <td>1</td>\n",
       "      <td>0</td>\n",
       "      <td>2</td>\n",
       "      <td>0</td>\n",
       "      <td>999.009247</td>\n",
       "      <td>0</td>\n",
       "      <td>1</td>\n",
       "      <td>22.592200</td>\n",
       "      <td>88.484911</td>\n",
       "      <td>60.5</td>\n",
       "      <td>285</td>\n",
       "    </tr>\n",
       "    <tr>\n",
       "      <th>...</th>\n",
       "      <td>...</td>\n",
       "      <td>...</td>\n",
       "      <td>...</td>\n",
       "      <td>...</td>\n",
       "      <td>...</td>\n",
       "      <td>...</td>\n",
       "      <td>...</td>\n",
       "      <td>...</td>\n",
       "      <td>...</td>\n",
       "      <td>...</td>\n",
       "      <td>...</td>\n",
       "      <td>...</td>\n",
       "    </tr>\n",
       "    <tr>\n",
       "      <th>29446</th>\n",
       "      <td>2</td>\n",
       "      <td>0</td>\n",
       "      <td>0</td>\n",
       "      <td>3</td>\n",
       "      <td>0</td>\n",
       "      <td>2500.000000</td>\n",
       "      <td>1</td>\n",
       "      <td>1</td>\n",
       "      <td>27.140626</td>\n",
       "      <td>78.043277</td>\n",
       "      <td>45.0</td>\n",
       "      <td>145</td>\n",
       "    </tr>\n",
       "    <tr>\n",
       "      <th>29447</th>\n",
       "      <td>2</td>\n",
       "      <td>0</td>\n",
       "      <td>0</td>\n",
       "      <td>2</td>\n",
       "      <td>0</td>\n",
       "      <td>769.230769</td>\n",
       "      <td>1</td>\n",
       "      <td>1</td>\n",
       "      <td>39.945409</td>\n",
       "      <td>-86.150721</td>\n",
       "      <td>16.0</td>\n",
       "      <td>52</td>\n",
       "    </tr>\n",
       "    <tr>\n",
       "      <th>29448</th>\n",
       "      <td>1</td>\n",
       "      <td>0</td>\n",
       "      <td>0</td>\n",
       "      <td>2</td>\n",
       "      <td>0</td>\n",
       "      <td>1022.641509</td>\n",
       "      <td>1</td>\n",
       "      <td>1</td>\n",
       "      <td>26.928785</td>\n",
       "      <td>75.828002</td>\n",
       "      <td>27.1</td>\n",
       "      <td>255</td>\n",
       "    </tr>\n",
       "    <tr>\n",
       "      <th>29449</th>\n",
       "      <td>2</td>\n",
       "      <td>0</td>\n",
       "      <td>0</td>\n",
       "      <td>2</td>\n",
       "      <td>0</td>\n",
       "      <td>927.079009</td>\n",
       "      <td>1</td>\n",
       "      <td>1</td>\n",
       "      <td>12.900150</td>\n",
       "      <td>80.227910</td>\n",
       "      <td>67.0</td>\n",
       "      <td>200</td>\n",
       "    </tr>\n",
       "    <tr>\n",
       "      <th>29450</th>\n",
       "      <td>1</td>\n",
       "      <td>0</td>\n",
       "      <td>1</td>\n",
       "      <td>2</td>\n",
       "      <td>0</td>\n",
       "      <td>896.774194</td>\n",
       "      <td>1</td>\n",
       "      <td>1</td>\n",
       "      <td>26.832353</td>\n",
       "      <td>75.841749</td>\n",
       "      <td>27.8</td>\n",
       "      <td>255</td>\n",
       "    </tr>\n",
       "  </tbody>\n",
       "</table>\n",
       "<p>29050 rows × 12 columns</p>\n",
       "</div>"
      ],
      "text/plain": [
       "       POSTED_BY  UNDER_CONSTRUCTION  RERA  BHK_NO.  BHK_OR_RK    SQUARE_FT  \\\n",
       "0              2                   0     0        2          0  1300.236407   \n",
       "1              1                   0     0        2          0  1275.000000   \n",
       "2              2                   0     0        2          0   933.159722   \n",
       "3              2                   0     1        2          0   929.921143   \n",
       "4              1                   1     0        2          0   999.009247   \n",
       "...          ...                 ...   ...      ...        ...          ...   \n",
       "29446          2                   0     0        3          0  2500.000000   \n",
       "29447          2                   0     0        2          0   769.230769   \n",
       "29448          1                   0     0        2          0  1022.641509   \n",
       "29449          2                   0     0        2          0   927.079009   \n",
       "29450          1                   0     1        2          0   896.774194   \n",
       "\n",
       "       READY_TO_MOVE  RESALE  LONGITUDE   LATITUDE  TARGET(PRICE_IN_LACS)  \\\n",
       "0                  1       1  12.969910  77.597960                   55.0   \n",
       "1                  1       1  12.274538  76.644605                   51.0   \n",
       "2                  1       1  12.778033  77.632191                   43.0   \n",
       "3                  1       1  28.642300  77.344500                   62.5   \n",
       "4                  0       1  22.592200  88.484911                   60.5   \n",
       "...              ...     ...        ...        ...                    ...   \n",
       "29446              1       1  27.140626  78.043277                   45.0   \n",
       "29447              1       1  39.945409 -86.150721                   16.0   \n",
       "29448              1       1  26.928785  75.828002                   27.1   \n",
       "29449              1       1  12.900150  80.227910                   67.0   \n",
       "29450              1       1  26.832353  75.841749                   27.8   \n",
       "\n",
       "       CITY  \n",
       "0       167  \n",
       "1       313  \n",
       "2       167  \n",
       "3       227  \n",
       "4       285  \n",
       "...     ...  \n",
       "29446   145  \n",
       "29447    52  \n",
       "29448   255  \n",
       "29449   200  \n",
       "29450   255  \n",
       "\n",
       "[29050 rows x 12 columns]"
      ]
     },
     "execution_count": 19,
     "metadata": {},
     "output_type": "execute_result"
    }
   ],
   "source": [
    "# Convert string data into numerical form.\n",
    "le=LabelEncoder()\n",
    "col=[\"POSTED_BY\",\"BHK_OR_RK\",\"CITY\"]\n",
    "for i in col:\n",
    "    Train_data[i]=le.fit_transform(Train_data[i])\n",
    "\n",
    "Train_data"
   ]
  },
  {
   "cell_type": "code",
   "execution_count": 20,
   "id": "a1a7c699",
   "metadata": {},
   "outputs": [
    {
     "name": "stderr",
     "output_type": "stream",
     "text": [
      "D:\\Shital\\Anaconda\\lib\\site-packages\\seaborn\\_decorators.py:36: FutureWarning: Pass the following variables as keyword args: x, y. From version 0.12, the only valid positional argument will be `data`, and passing other arguments without an explicit keyword will result in an error or misinterpretation.\n",
      "  warnings.warn(\n",
      "D:\\Shital\\Anaconda\\lib\\site-packages\\seaborn\\_decorators.py:36: FutureWarning: Pass the following variables as keyword args: x, y. From version 0.12, the only valid positional argument will be `data`, and passing other arguments without an explicit keyword will result in an error or misinterpretation.\n",
      "  warnings.warn(\n",
      "D:\\Shital\\Anaconda\\lib\\site-packages\\seaborn\\_decorators.py:36: FutureWarning: Pass the following variables as keyword args: x, y. From version 0.12, the only valid positional argument will be `data`, and passing other arguments without an explicit keyword will result in an error or misinterpretation.\n",
      "  warnings.warn(\n",
      "D:\\Shital\\Anaconda\\lib\\site-packages\\seaborn\\_decorators.py:36: FutureWarning: Pass the following variables as keyword args: x, y. From version 0.12, the only valid positional argument will be `data`, and passing other arguments without an explicit keyword will result in an error or misinterpretation.\n",
      "  warnings.warn(\n",
      "D:\\Shital\\Anaconda\\lib\\site-packages\\seaborn\\_decorators.py:36: FutureWarning: Pass the following variables as keyword args: x, y. From version 0.12, the only valid positional argument will be `data`, and passing other arguments without an explicit keyword will result in an error or misinterpretation.\n",
      "  warnings.warn(\n",
      "D:\\Shital\\Anaconda\\lib\\site-packages\\seaborn\\_decorators.py:36: FutureWarning: Pass the following variables as keyword args: x, y. From version 0.12, the only valid positional argument will be `data`, and passing other arguments without an explicit keyword will result in an error or misinterpretation.\n",
      "  warnings.warn(\n",
      "D:\\Shital\\Anaconda\\lib\\site-packages\\seaborn\\_decorators.py:36: FutureWarning: Pass the following variables as keyword args: x, y. From version 0.12, the only valid positional argument will be `data`, and passing other arguments without an explicit keyword will result in an error or misinterpretation.\n",
      "  warnings.warn(\n",
      "D:\\Shital\\Anaconda\\lib\\site-packages\\seaborn\\_decorators.py:36: FutureWarning: Pass the following variables as keyword args: x, y. From version 0.12, the only valid positional argument will be `data`, and passing other arguments without an explicit keyword will result in an error or misinterpretation.\n",
      "  warnings.warn(\n",
      "D:\\Shital\\Anaconda\\lib\\site-packages\\seaborn\\_decorators.py:36: FutureWarning: Pass the following variables as keyword args: x, y. From version 0.12, the only valid positional argument will be `data`, and passing other arguments without an explicit keyword will result in an error or misinterpretation.\n",
      "  warnings.warn(\n",
      "D:\\Shital\\Anaconda\\lib\\site-packages\\seaborn\\_decorators.py:36: FutureWarning: Pass the following variables as keyword args: x, y. From version 0.12, the only valid positional argument will be `data`, and passing other arguments without an explicit keyword will result in an error or misinterpretation.\n",
      "  warnings.warn(\n",
      "D:\\Shital\\Anaconda\\lib\\site-packages\\seaborn\\_decorators.py:36: FutureWarning: Pass the following variables as keyword args: x, y. From version 0.12, the only valid positional argument will be `data`, and passing other arguments without an explicit keyword will result in an error or misinterpretation.\n",
      "  warnings.warn(\n",
      "D:\\Shital\\Anaconda\\lib\\site-packages\\seaborn\\_decorators.py:36: FutureWarning: Pass the following variables as keyword args: x, y. From version 0.12, the only valid positional argument will be `data`, and passing other arguments without an explicit keyword will result in an error or misinterpretation.\n",
      "  warnings.warn(\n"
     ]
    },
    {
     "data": {
      "image/png": "[encoded data removed]",
      "text/plain": [
       "<Figure size 1800x1296 with 12 Axes>"
      ]
     },
     "metadata": {
      "needs_background": "light"
     },
     "output_type": "display_data"
    }
   ],
   "source": [
    "col=Train_data.columns\n",
    "n=0\n",
    "plt.figure(figsize=(25,18))\n",
    "for i in col:\n",
    "    n+=1\n",
    "    if n<=17:\n",
    "        plt.subplot(5,4,n)\n",
    "        plt.subplots_adjust(hspace=1.5,wspace=0.2)\n",
    "        sns.scatterplot(Train_data[i],Train_data[\"TARGET(PRICE_IN_LACS)\"],color=\"orange\")\n",
    "        plt.title(\"Scatter plot of {}\".format(i))\n",
    "plt.show()"
   ]
  },
  {
   "cell_type": "code",
   "execution_count": 21,
   "id": "568e2a6f",
   "metadata": {},
   "outputs": [
    {
     "data": {
      "text/html": [
       "<div>\n",
       "<style scoped>\n",
       "    .dataframe tbody tr th:only-of-type {\n",
       "        vertical-align: middle;\n",
       "    }\n",
       "\n",
       "    .dataframe tbody tr th {\n",
       "        vertical-align: top;\n",
       "    }\n",
       "\n",
       "    .dataframe thead th {\n",
       "        text-align: right;\n",
       "    }\n",
       "</style>\n",
       "<table border=\"1\" class=\"dataframe\">\n",
       "  <thead>\n",
       "    <tr style=\"text-align: right;\">\n",
       "      <th></th>\n",
       "      <th>POSTED_BY</th>\n",
       "      <th>UNDER_CONSTRUCTION</th>\n",
       "      <th>RERA</th>\n",
       "      <th>BHK_NO.</th>\n",
       "      <th>BHK_OR_RK</th>\n",
       "      <th>SQUARE_FT</th>\n",
       "      <th>READY_TO_MOVE</th>\n",
       "      <th>RESALE</th>\n",
       "      <th>LONGITUDE</th>\n",
       "      <th>LATITUDE</th>\n",
       "      <th>TARGET(PRICE_IN_LACS)</th>\n",
       "      <th>CITY</th>\n",
       "    </tr>\n",
       "  </thead>\n",
       "  <tbody>\n",
       "    <tr>\n",
       "      <th>POSTED_BY</th>\n",
       "      <td>1.000000</td>\n",
       "      <td>-0.263952</td>\n",
       "      <td>-0.286281</td>\n",
       "      <td>-0.071285</td>\n",
       "      <td>-0.028160</td>\n",
       "      <td>0.005404</td>\n",
       "      <td>0.263952</td>\n",
       "      <td>0.333873</td>\n",
       "      <td>-0.047850</td>\n",
       "      <td>0.025527</td>\n",
       "      <td>-0.093575</td>\n",
       "      <td>-0.093034</td>\n",
       "    </tr>\n",
       "    <tr>\n",
       "      <th>UNDER_CONSTRUCTION</th>\n",
       "      <td>-0.263952</td>\n",
       "      <td>1.000000</td>\n",
       "      <td>0.364299</td>\n",
       "      <td>-0.042503</td>\n",
       "      <td>0.020956</td>\n",
       "      <td>-0.004233</td>\n",
       "      <td>-1.000000</td>\n",
       "      <td>-0.346085</td>\n",
       "      <td>0.006420</td>\n",
       "      <td>-0.000850</td>\n",
       "      <td>0.054618</td>\n",
       "      <td>0.072884</td>\n",
       "    </tr>\n",
       "    <tr>\n",
       "      <th>RERA</th>\n",
       "      <td>-0.286281</td>\n",
       "      <td>0.364299</td>\n",
       "      <td>1.000000</td>\n",
       "      <td>0.008403</td>\n",
       "      <td>0.006235</td>\n",
       "      <td>-0.006251</td>\n",
       "      <td>-0.364299</td>\n",
       "      <td>-0.270268</td>\n",
       "      <td>0.103617</td>\n",
       "      <td>-0.065424</td>\n",
       "      <td>0.067314</td>\n",
       "      <td>0.061128</td>\n",
       "    </tr>\n",
       "    <tr>\n",
       "      <th>BHK_NO.</th>\n",
       "      <td>-0.071285</td>\n",
       "      <td>-0.042503</td>\n",
       "      <td>0.008403</td>\n",
       "      <td>1.000000</td>\n",
       "      <td>-0.045412</td>\n",
       "      <td>0.005337</td>\n",
       "      <td>0.042503</td>\n",
       "      <td>0.013146</td>\n",
       "      <td>0.067711</td>\n",
       "      <td>0.046988</td>\n",
       "      <td>0.113654</td>\n",
       "      <td>-0.085519</td>\n",
       "    </tr>\n",
       "    <tr>\n",
       "      <th>BHK_OR_RK</th>\n",
       "      <td>-0.028160</td>\n",
       "      <td>0.020956</td>\n",
       "      <td>0.006235</td>\n",
       "      <td>-0.045412</td>\n",
       "      <td>1.000000</td>\n",
       "      <td>-0.000296</td>\n",
       "      <td>-0.020956</td>\n",
       "      <td>-0.029789</td>\n",
       "      <td>0.009311</td>\n",
       "      <td>0.000327</td>\n",
       "      <td>-0.004453</td>\n",
       "      <td>0.010048</td>\n",
       "    </tr>\n",
       "    <tr>\n",
       "      <th>SQUARE_FT</th>\n",
       "      <td>0.005404</td>\n",
       "      <td>-0.004233</td>\n",
       "      <td>-0.006251</td>\n",
       "      <td>0.005337</td>\n",
       "      <td>-0.000296</td>\n",
       "      <td>1.000000</td>\n",
       "      <td>0.004233</td>\n",
       "      <td>0.001768</td>\n",
       "      <td>-0.012646</td>\n",
       "      <td>0.000813</td>\n",
       "      <td>0.409571</td>\n",
       "      <td>-0.013656</td>\n",
       "    </tr>\n",
       "    <tr>\n",
       "      <th>READY_TO_MOVE</th>\n",
       "      <td>0.263952</td>\n",
       "      <td>-1.000000</td>\n",
       "      <td>-0.364299</td>\n",
       "      <td>0.042503</td>\n",
       "      <td>-0.020956</td>\n",
       "      <td>0.004233</td>\n",
       "      <td>1.000000</td>\n",
       "      <td>0.346085</td>\n",
       "      <td>-0.006420</td>\n",
       "      <td>0.000850</td>\n",
       "      <td>-0.054618</td>\n",
       "      <td>-0.072884</td>\n",
       "    </tr>\n",
       "    <tr>\n",
       "      <th>RESALE</th>\n",
       "      <td>0.333873</td>\n",
       "      <td>-0.346085</td>\n",
       "      <td>-0.270268</td>\n",
       "      <td>0.013146</td>\n",
       "      <td>-0.029789</td>\n",
       "      <td>0.001768</td>\n",
       "      <td>0.346085</td>\n",
       "      <td>1.000000</td>\n",
       "      <td>0.023274</td>\n",
       "      <td>0.015824</td>\n",
       "      <td>-0.203275</td>\n",
       "      <td>-0.021146</td>\n",
       "    </tr>\n",
       "    <tr>\n",
       "      <th>LONGITUDE</th>\n",
       "      <td>-0.047850</td>\n",
       "      <td>0.006420</td>\n",
       "      <td>0.103617</td>\n",
       "      <td>0.067711</td>\n",
       "      <td>0.009311</td>\n",
       "      <td>-0.012646</td>\n",
       "      <td>-0.006420</td>\n",
       "      <td>0.023274</td>\n",
       "      <td>1.000000</td>\n",
       "      <td>-0.156784</td>\n",
       "      <td>-0.030505</td>\n",
       "      <td>0.222732</td>\n",
       "    </tr>\n",
       "    <tr>\n",
       "      <th>LATITUDE</th>\n",
       "      <td>0.025527</td>\n",
       "      <td>-0.000850</td>\n",
       "      <td>-0.065424</td>\n",
       "      <td>0.046988</td>\n",
       "      <td>0.000327</td>\n",
       "      <td>0.000813</td>\n",
       "      <td>0.000850</td>\n",
       "      <td>0.015824</td>\n",
       "      <td>-0.156784</td>\n",
       "      <td>1.000000</td>\n",
       "      <td>-0.017813</td>\n",
       "      <td>-0.078165</td>\n",
       "    </tr>\n",
       "    <tr>\n",
       "      <th>TARGET(PRICE_IN_LACS)</th>\n",
       "      <td>-0.093575</td>\n",
       "      <td>0.054618</td>\n",
       "      <td>0.067314</td>\n",
       "      <td>0.113654</td>\n",
       "      <td>-0.004453</td>\n",
       "      <td>0.409571</td>\n",
       "      <td>-0.054618</td>\n",
       "      <td>-0.203275</td>\n",
       "      <td>-0.030505</td>\n",
       "      <td>-0.017813</td>\n",
       "      <td>1.000000</td>\n",
       "      <td>0.007190</td>\n",
       "    </tr>\n",
       "    <tr>\n",
       "      <th>CITY</th>\n",
       "      <td>-0.093034</td>\n",
       "      <td>0.072884</td>\n",
       "      <td>0.061128</td>\n",
       "      <td>-0.085519</td>\n",
       "      <td>0.010048</td>\n",
       "      <td>-0.013656</td>\n",
       "      <td>-0.072884</td>\n",
       "      <td>-0.021146</td>\n",
       "      <td>0.222732</td>\n",
       "      <td>-0.078165</td>\n",
       "      <td>0.007190</td>\n",
       "      <td>1.000000</td>\n",
       "    </tr>\n",
       "  </tbody>\n",
       "</table>\n",
       "</div>"
      ],
      "text/plain": [
       "                       POSTED_BY  UNDER_CONSTRUCTION      RERA   BHK_NO.  \\\n",
       "POSTED_BY               1.000000           -0.263952 -0.286281 -0.071285   \n",
       "UNDER_CONSTRUCTION     -0.263952            1.000000  0.364299 -0.042503   \n",
       "RERA                   -0.286281            0.364299  1.000000  0.008403   \n",
       "BHK_NO.                -0.071285           -0.042503  0.008403  1.000000   \n",
       "BHK_OR_RK              -0.028160            0.020956  0.006235 -0.045412   \n",
       "SQUARE_FT               0.005404           -0.004233 -0.006251  0.005337   \n",
       "READY_TO_MOVE           0.263952           -1.000000 -0.364299  0.042503   \n",
       "RESALE                  0.333873           -0.346085 -0.270268  0.013146   \n",
       "LONGITUDE              -0.047850            0.006420  0.103617  0.067711   \n",
       "LATITUDE                0.025527           -0.000850 -0.065424  0.046988   \n",
       "TARGET(PRICE_IN_LACS)  -0.093575            0.054618  0.067314  0.113654   \n",
       "CITY                   -0.093034            0.072884  0.061128 -0.085519   \n",
       "\n",
       "                       BHK_OR_RK  SQUARE_FT  READY_TO_MOVE    RESALE  \\\n",
       "POSTED_BY              -0.028160   0.005404       0.263952  0.333873   \n",
       "UNDER_CONSTRUCTION      0.020956  -0.004233      -1.000000 -0.346085   \n",
       "RERA                    0.006235  -0.006251      -0.364299 -0.270268   \n",
       "BHK_NO.                -0.045412   0.005337       0.042503  0.013146   \n",
       "BHK_OR_RK               1.000000  -0.000296      -0.020956 -0.029789   \n",
       "SQUARE_FT              -0.000296   1.000000       0.004233  0.001768   \n",
       "READY_TO_MOVE          -0.020956   0.004233       1.000000  0.346085   \n",
       "RESALE                 -0.029789   0.001768       0.346085  1.000000   \n",
       "LONGITUDE               0.009311  -0.012646      -0.006420  0.023274   \n",
       "LATITUDE                0.000327   0.000813       0.000850  0.015824   \n",
       "TARGET(PRICE_IN_LACS)  -0.004453   0.409571      -0.054618 -0.203275   \n",
       "CITY                    0.010048  -0.013656      -0.072884 -0.021146   \n",
       "\n",
       "                       LONGITUDE  LATITUDE  TARGET(PRICE_IN_LACS)      CITY  \n",
       "POSTED_BY              -0.047850  0.025527              -0.093575 -0.093034  \n",
       "UNDER_CONSTRUCTION      0.006420 -0.000850               0.054618  0.072884  \n",
       "RERA                    0.103617 -0.065424               0.067314  0.061128  \n",
       "BHK_NO.                 0.067711  0.046988               0.113654 -0.085519  \n",
       "BHK_OR_RK               0.009311  0.000327              -0.004453  0.010048  \n",
       "SQUARE_FT              -0.012646  0.000813               0.409571 -0.013656  \n",
       "READY_TO_MOVE          -0.006420  0.000850              -0.054618 -0.072884  \n",
       "RESALE                  0.023274  0.015824              -0.203275 -0.021146  \n",
       "LONGITUDE               1.000000 -0.156784              -0.030505  0.222732  \n",
       "LATITUDE               -0.156784  1.000000              -0.017813 -0.078165  \n",
       "TARGET(PRICE_IN_LACS)  -0.030505 -0.017813               1.000000  0.007190  \n",
       "CITY                    0.222732 -0.078165               0.007190  1.000000  "
      ]
     },
     "execution_count": 21,
     "metadata": {},
     "output_type": "execute_result"
    }
   ],
   "source": [
    "cor=Train_data.corr()\n",
    "cor"
   ]
  },
  {
   "cell_type": "code",
   "execution_count": 22,
   "id": "3f1dca0c",
   "metadata": {},
   "outputs": [
    {
     "data": {
      "text/plain": [
       "<AxesSubplot:>"
      ]
     },
     "execution_count": 22,
     "metadata": {},
     "output_type": "execute_result"
    },
    {
     "data": {
      "image/png": "[encoded data removed]",
      "text/plain": [
       "<Figure size 1080x432 with 2 Axes>"
      ]
     },
     "metadata": {
      "needs_background": "light"
     },
     "output_type": "display_data"
    }
   ],
   "source": [
    "plt.figure(figsize=(15,6))\n",
    "sns.heatmap(cor,annot=True,fmt=\"1.2g\")"
   ]
  },
  {
   "cell_type": "markdown",
   "id": "c645fda1",
   "metadata": {},
   "source": [
    "### Result:-\n",
    "* correlation present in our training dataset."
   ]
  },
  {
   "cell_type": "markdown",
   "id": "ec4c0dbe",
   "metadata": {},
   "source": [
    "### Data splitting "
   ]
  },
  {
   "cell_type": "code",
   "execution_count": 23,
   "id": "c825dd96",
   "metadata": {},
   "outputs": [],
   "source": [
    "# split our data into independent & dependent form.\n",
    "x_data=Train_data.iloc[:,[0,1,2,3,4,5,6,7,8,9,11]]\n",
    "y_data=Train_data.iloc[:,[10]]"
   ]
  },
  {
   "cell_type": "markdown",
   "id": "ac5d06b9",
   "metadata": {},
   "source": [
    "### Standardization method of Feature Scaling of independent data"
   ]
  },
  {
   "cell_type": "code",
   "execution_count": 24,
   "id": "c97ca686",
   "metadata": {},
   "outputs": [],
   "source": [
    "sc=StandardScaler()\n",
    "x_train_data=sc.fit_transform(x_data)"
   ]
  },
  {
   "cell_type": "markdown",
   "id": "43cf0968",
   "metadata": {},
   "source": [
    "### Feature scaling for dependent data"
   ]
  },
  {
   "cell_type": "code",
   "execution_count": 25,
   "id": "93f86829",
   "metadata": {},
   "outputs": [
    {
     "name": "stderr",
     "output_type": "stream",
     "text": [
      "D:\\Shital\\Anaconda\\lib\\site-packages\\seaborn\\distributions.py:2619: FutureWarning: `distplot` is a deprecated function and will be removed in a future version. Please adapt your code to use either `displot` (a figure-level function with similar flexibility) or `histplot` (an axes-level function for histograms).\n",
      "  warnings.warn(msg, FutureWarning)\n"
     ]
    },
    {
     "data": {
      "text/plain": [
       "<AxesSubplot:xlabel='TARGET(PRICE_IN_LACS)', ylabel='Density'>"
      ]
     },
     "execution_count": 25,
     "metadata": {},
     "output_type": "execute_result"
    },
    {
     "data": {
      "image/png": "[encoded data removed]",
      "text/plain": [
       "<Figure size 432x288 with 1 Axes>"
      ]
     },
     "metadata": {
      "needs_background": "light"
     },
     "output_type": "display_data"
    }
   ],
   "source": [
    "# Lets check the distribution of the target column\n",
    "sns.distplot(Train_data[\"TARGET(PRICE_IN_LACS)\"],fit=norm,color=\"red\")"
   ]
  },
  {
   "cell_type": "markdown",
   "id": "b2d110ea",
   "metadata": {},
   "source": [
    "### Result:-\n",
    "* Our target data is not a normal so we need to convert it into normal."
   ]
  },
  {
   "cell_type": "code",
   "execution_count": 26,
   "id": "e6ef7116",
   "metadata": {},
   "outputs": [],
   "source": [
    "### Method 1 :- Log Transformation\n",
    "\n",
    "y_train_data=np.log(Train_data[\"TARGET(PRICE_IN_LACS)\"])\n"
   ]
  },
  {
   "cell_type": "code",
   "execution_count": 27,
   "id": "2c645f9c",
   "metadata": {},
   "outputs": [
    {
     "name": "stderr",
     "output_type": "stream",
     "text": [
      "D:\\Shital\\Anaconda\\lib\\site-packages\\seaborn\\distributions.py:2619: FutureWarning: `distplot` is a deprecated function and will be removed in a future version. Please adapt your code to use either `displot` (a figure-level function with similar flexibility) or `histplot` (an axes-level function for histograms).\n",
      "  warnings.warn(msg, FutureWarning)\n"
     ]
    },
    {
     "data": {
      "text/plain": [
       "<AxesSubplot:xlabel='TARGET(PRICE_IN_LACS)', ylabel='Density'>"
      ]
     },
     "execution_count": 27,
     "metadata": {},
     "output_type": "execute_result"
    },
    {
     "data": {
      "image/png": "[encoded data removed]",
      "text/plain": [
       "<Figure size 432x288 with 1 Axes>"
      ]
     },
     "metadata": {
      "needs_background": "light"
     },
     "output_type": "display_data"
    }
   ],
   "source": [
    "# Lets check the distribution of the target column\n",
    "sns.distplot(y_train_data,fit=norm,color=\"green\")"
   ]
  },
  {
   "cell_type": "code",
   "execution_count": 28,
   "id": "5405092b",
   "metadata": {},
   "outputs": [
    {
     "name": "stderr",
     "output_type": "stream",
     "text": [
      "D:\\Shital\\Anaconda\\lib\\site-packages\\seaborn\\distributions.py:2619: FutureWarning: `distplot` is a deprecated function and will be removed in a future version. Please adapt your code to use either `displot` (a figure-level function with similar flexibility) or `histplot` (an axes-level function for histograms).\n",
      "  warnings.warn(msg, FutureWarning)\n",
      "D:\\Shital\\Anaconda\\lib\\site-packages\\seaborn\\distributions.py:2619: FutureWarning: `distplot` is a deprecated function and will be removed in a future version. Please adapt your code to use either `displot` (a figure-level function with similar flexibility) or `histplot` (an axes-level function for histograms).\n",
      "  warnings.warn(msg, FutureWarning)\n"
     ]
    },
    {
     "data": {
      "text/plain": [
       "<AxesSubplot:title={'center':'After Transformation'}, xlabel='TARGET(PRICE_IN_LACS)', ylabel='Density'>"
      ]
     },
     "execution_count": 28,
     "metadata": {},
     "output_type": "execute_result"
    },
    {
     "data": {
      "image/png": "[encoded data removed]",
      "text/plain": [
       "<Figure size 1080x432 with 2 Axes>"
      ]
     },
     "metadata": {
      "needs_background": "light"
     },
     "output_type": "display_data"
    }
   ],
   "source": [
    "plt.figure(figsize=(15,6))\n",
    "plt.subplot(1,2,1)\n",
    "plt.subplots_adjust(hspace=1.5,wspace=0.2)\n",
    "plt.title(\"Before Transformation\")\n",
    "sns.distplot(Train_data[\"TARGET(PRICE_IN_LACS)\"],fit=norm,color=\"red\")\n",
    "plt.subplot(1,2,2)\n",
    "plt.subplots_adjust(hspace=1.5,wspace=0.2)\n",
    "plt.title(\"After Transformation\")\n",
    "sns.distplot(y_train_data,fit=norm,color=\"red\")\n"
   ]
  },
  {
   "cell_type": "markdown",
   "id": "7ccfb096",
   "metadata": {},
   "source": [
    "### Result:-\n",
    "* Our dependent data is also converted in normal.\n"
   ]
  },
  {
   "cell_type": "markdown",
   "id": "a0f3bbae",
   "metadata": {},
   "source": [
    "### Result :-\n",
    "* Training data is ready for the model fitting.\n"
   ]
  },
  {
   "cell_type": "markdown",
   "id": "881e3c9f",
   "metadata": {},
   "source": [
    "### Testing Dataset\n"
   ]
  },
  {
   "cell_type": "code",
   "execution_count": 29,
   "id": "cca450a7",
   "metadata": {},
   "outputs": [
    {
     "data": {
      "text/plain": [
       "(68720, 11)"
      ]
     },
     "execution_count": 29,
     "metadata": {},
     "output_type": "execute_result"
    }
   ],
   "source": [
    "test_data=pd.read_csv(r\"D:\\Datasets\\house_price_test.csv\")\n",
    "test_data.head()\n",
    "\n",
    "test_data.shape"
   ]
  },
  {
   "cell_type": "markdown",
   "id": "be3ac7f9",
   "metadata": {},
   "source": [
    "### Null Value Handling"
   ]
  },
  {
   "cell_type": "code",
   "execution_count": 30,
   "id": "3aa15d16",
   "metadata": {},
   "outputs": [
    {
     "data": {
      "text/plain": [
       "POSTED_BY             False\n",
       "UNDER_CONSTRUCTION    False\n",
       "RERA                  False\n",
       "BHK_NO.               False\n",
       "BHK_OR_RK             False\n",
       "SQUARE_FT             False\n",
       "READY_TO_MOVE         False\n",
       "RESALE                False\n",
       "ADDRESS               False\n",
       "LONGITUDE             False\n",
       "LATITUDE              False\n",
       "dtype: bool"
      ]
     },
     "execution_count": 30,
     "metadata": {},
     "output_type": "execute_result"
    }
   ],
   "source": [
    "test_data.isnull().any()"
   ]
  },
  {
   "cell_type": "code",
   "execution_count": 31,
   "id": "84334406",
   "metadata": {},
   "outputs": [
    {
     "data": {
      "text/plain": [
       "POSTED_BY             0\n",
       "UNDER_CONSTRUCTION    0\n",
       "RERA                  0\n",
       "BHK_NO.               0\n",
       "BHK_OR_RK             0\n",
       "SQUARE_FT             0\n",
       "READY_TO_MOVE         0\n",
       "RESALE                0\n",
       "ADDRESS               0\n",
       "LONGITUDE             0\n",
       "LATITUDE              0\n",
       "dtype: int64"
      ]
     },
     "execution_count": 31,
     "metadata": {},
     "output_type": "execute_result"
    }
   ],
   "source": [
    "test_data.isnull().sum()"
   ]
  },
  {
   "cell_type": "markdown",
   "id": "bab454d6",
   "metadata": {},
   "source": [
    "### Result:-\n",
    "* There is no null values present in our testing data."
   ]
  },
  {
   "cell_type": "code",
   "execution_count": 32,
   "id": "a6b5c3a4",
   "metadata": {},
   "outputs": [
    {
     "data": {
      "text/plain": [
       "2470"
      ]
     },
     "execution_count": 32,
     "metadata": {},
     "output_type": "execute_result"
    }
   ],
   "source": [
    "### Duplicate Value\n",
    "test_data.duplicated().sum()"
   ]
  },
  {
   "cell_type": "markdown",
   "id": "b4e3775c",
   "metadata": {},
   "source": [
    "### Result:-\n",
    "* Duplicate data present in our testing data."
   ]
  },
  {
   "cell_type": "markdown",
   "id": "72eec92e",
   "metadata": {},
   "source": [
    "### Remove duplicate data"
   ]
  },
  {
   "cell_type": "code",
   "execution_count": 33,
   "id": "6f12ac27",
   "metadata": {},
   "outputs": [
    {
     "data": {
      "text/plain": [
       "(66250, 11)"
      ]
     },
     "execution_count": 33,
     "metadata": {},
     "output_type": "execute_result"
    }
   ],
   "source": [
    "Test_data=test_data.drop_duplicates()\n",
    "\n",
    "Test_data\n",
    "\n",
    "Test_data.shape\n"
   ]
  },
  {
   "cell_type": "markdown",
   "id": "186d052f",
   "metadata": {},
   "source": [
    "### Result:-\n",
    "* Duplicate data is successfully removed from the testing data.\n"
   ]
  },
  {
   "cell_type": "code",
   "execution_count": 34,
   "id": "baaca430",
   "metadata": {},
   "outputs": [
    {
     "name": "stderr",
     "output_type": "stream",
     "text": [
      "C:\\Users\\shita\\AppData\\Local\\Temp\\ipykernel_7596\\2479264889.py:2: SettingWithCopyWarning: \n",
      "A value is trying to be set on a copy of a slice from a DataFrame.\n",
      "Try using .loc[row_indexer,col_indexer] = value instead\n",
      "\n",
      "See the caveats in the documentation: https://pandas.pydata.org/pandas-docs/stable/user_guide/indexing.html#returning-a-view-versus-a-copy\n",
      "  Test_data[\"CITY\"]=Test_data[\"ADDRESS\"].str.split(\",\").str.get(1)\n"
     ]
    }
   ],
   "source": [
    "# Find unique city name from the adress column and store it in new variable.\n",
    "Test_data[\"CITY\"]=Test_data[\"ADDRESS\"].str.split(\",\").str.get(1)"
   ]
  },
  {
   "cell_type": "code",
   "execution_count": 35,
   "id": "262bcb78",
   "metadata": {},
   "outputs": [
    {
     "data": {
      "text/plain": [
       "Text(0.5, 1.0, 'Pie chart')"
      ]
     },
     "execution_count": 35,
     "metadata": {},
     "output_type": "execute_result"
    },
    {
     "data": {
      "image/png": "[encoded data removed]",
      "text/plain": [
       "<Figure size 1080x432 with 1 Axes>"
      ]
     },
     "metadata": {},
     "output_type": "display_data"
    }
   ],
   "source": [
    "plt.figure(figsize=(15,6))\n",
    "Test_data[\"CITY\"].value_counts().head(10).plot(kind=\"pie\",autopct=\"%1.1f%%\",explode=[0.05]*10)\n",
    "plt.title(\"Pie chart\")"
   ]
  },
  {
   "cell_type": "code",
   "execution_count": 36,
   "id": "35cefc2d",
   "metadata": {},
   "outputs": [],
   "source": [
    "del Test_data[\"ADDRESS\"]"
   ]
  },
  {
   "cell_type": "code",
   "execution_count": 37,
   "id": "2979bdac",
   "metadata": {},
   "outputs": [
    {
     "name": "stderr",
     "output_type": "stream",
     "text": [
      "C:\\Users\\shita\\AppData\\Local\\Temp\\ipykernel_7596\\2164943812.py:5: SettingWithCopyWarning: \n",
      "A value is trying to be set on a copy of a slice from a DataFrame.\n",
      "Try using .loc[row_indexer,col_indexer] = value instead\n",
      "\n",
      "See the caveats in the documentation: https://pandas.pydata.org/pandas-docs/stable/user_guide/indexing.html#returning-a-view-versus-a-copy\n",
      "  Test_data[i]=le.fit_transform(Test_data[i])\n"
     ]
    },
    {
     "data": {
      "text/html": [
       "<div>\n",
       "<style scoped>\n",
       "    .dataframe tbody tr th:only-of-type {\n",
       "        vertical-align: middle;\n",
       "    }\n",
       "\n",
       "    .dataframe tbody tr th {\n",
       "        vertical-align: top;\n",
       "    }\n",
       "\n",
       "    .dataframe thead th {\n",
       "        text-align: right;\n",
       "    }\n",
       "</style>\n",
       "<table border=\"1\" class=\"dataframe\">\n",
       "  <thead>\n",
       "    <tr style=\"text-align: right;\">\n",
       "      <th></th>\n",
       "      <th>POSTED_BY</th>\n",
       "      <th>UNDER_CONSTRUCTION</th>\n",
       "      <th>RERA</th>\n",
       "      <th>BHK_NO.</th>\n",
       "      <th>BHK_OR_RK</th>\n",
       "      <th>SQUARE_FT</th>\n",
       "      <th>READY_TO_MOVE</th>\n",
       "      <th>RESALE</th>\n",
       "      <th>LONGITUDE</th>\n",
       "      <th>LATITUDE</th>\n",
       "      <th>CITY</th>\n",
       "    </tr>\n",
       "  </thead>\n",
       "  <tbody>\n",
       "    <tr>\n",
       "      <th>0</th>\n",
       "      <td>2</td>\n",
       "      <td>0</td>\n",
       "      <td>0</td>\n",
       "      <td>1</td>\n",
       "      <td>0</td>\n",
       "      <td>545.171340</td>\n",
       "      <td>1</td>\n",
       "      <td>1</td>\n",
       "      <td>21.262000</td>\n",
       "      <td>73.047700</td>\n",
       "      <td>667</td>\n",
       "    </tr>\n",
       "    <tr>\n",
       "      <th>1</th>\n",
       "      <td>1</td>\n",
       "      <td>1</td>\n",
       "      <td>1</td>\n",
       "      <td>2</td>\n",
       "      <td>0</td>\n",
       "      <td>800.000000</td>\n",
       "      <td>0</td>\n",
       "      <td>0</td>\n",
       "      <td>18.966114</td>\n",
       "      <td>73.148278</td>\n",
       "      <td>535</td>\n",
       "    </tr>\n",
       "    <tr>\n",
       "      <th>2</th>\n",
       "      <td>1</td>\n",
       "      <td>0</td>\n",
       "      <td>0</td>\n",
       "      <td>2</td>\n",
       "      <td>0</td>\n",
       "      <td>1257.096513</td>\n",
       "      <td>1</td>\n",
       "      <td>1</td>\n",
       "      <td>22.592200</td>\n",
       "      <td>88.484911</td>\n",
       "      <td>524</td>\n",
       "    </tr>\n",
       "    <tr>\n",
       "      <th>3</th>\n",
       "      <td>1</td>\n",
       "      <td>0</td>\n",
       "      <td>0</td>\n",
       "      <td>3</td>\n",
       "      <td>0</td>\n",
       "      <td>1400.329489</td>\n",
       "      <td>1</td>\n",
       "      <td>1</td>\n",
       "      <td>26.988300</td>\n",
       "      <td>75.584600</td>\n",
       "      <td>483</td>\n",
       "    </tr>\n",
       "    <tr>\n",
       "      <th>4</th>\n",
       "      <td>2</td>\n",
       "      <td>0</td>\n",
       "      <td>0</td>\n",
       "      <td>1</td>\n",
       "      <td>0</td>\n",
       "      <td>430.477830</td>\n",
       "      <td>1</td>\n",
       "      <td>1</td>\n",
       "      <td>22.700000</td>\n",
       "      <td>72.870000</td>\n",
       "      <td>567</td>\n",
       "    </tr>\n",
       "    <tr>\n",
       "      <th>...</th>\n",
       "      <td>...</td>\n",
       "      <td>...</td>\n",
       "      <td>...</td>\n",
       "      <td>...</td>\n",
       "      <td>...</td>\n",
       "      <td>...</td>\n",
       "      <td>...</td>\n",
       "      <td>...</td>\n",
       "      <td>...</td>\n",
       "      <td>...</td>\n",
       "      <td>...</td>\n",
       "    </tr>\n",
       "    <tr>\n",
       "      <th>68715</th>\n",
       "      <td>1</td>\n",
       "      <td>0</td>\n",
       "      <td>1</td>\n",
       "      <td>2</td>\n",
       "      <td>0</td>\n",
       "      <td>856.555505</td>\n",
       "      <td>1</td>\n",
       "      <td>1</td>\n",
       "      <td>19.180000</td>\n",
       "      <td>72.963330</td>\n",
       "      <td>544</td>\n",
       "    </tr>\n",
       "    <tr>\n",
       "      <th>68716</th>\n",
       "      <td>1</td>\n",
       "      <td>0</td>\n",
       "      <td>1</td>\n",
       "      <td>3</td>\n",
       "      <td>0</td>\n",
       "      <td>2304.147465</td>\n",
       "      <td>1</td>\n",
       "      <td>1</td>\n",
       "      <td>30.661104</td>\n",
       "      <td>76.746082</td>\n",
       "      <td>557</td>\n",
       "    </tr>\n",
       "    <tr>\n",
       "      <th>68717</th>\n",
       "      <td>1</td>\n",
       "      <td>1</td>\n",
       "      <td>1</td>\n",
       "      <td>1</td>\n",
       "      <td>0</td>\n",
       "      <td>33362.792750</td>\n",
       "      <td>0</td>\n",
       "      <td>0</td>\n",
       "      <td>19.222101</td>\n",
       "      <td>72.988231</td>\n",
       "      <td>544</td>\n",
       "    </tr>\n",
       "    <tr>\n",
       "      <th>68718</th>\n",
       "      <td>1</td>\n",
       "      <td>0</td>\n",
       "      <td>0</td>\n",
       "      <td>2</td>\n",
       "      <td>0</td>\n",
       "      <td>1173.708920</td>\n",
       "      <td>1</td>\n",
       "      <td>1</td>\n",
       "      <td>18.496670</td>\n",
       "      <td>73.941670</td>\n",
       "      <td>612</td>\n",
       "    </tr>\n",
       "    <tr>\n",
       "      <th>68719</th>\n",
       "      <td>1</td>\n",
       "      <td>0</td>\n",
       "      <td>0</td>\n",
       "      <td>3</td>\n",
       "      <td>0</td>\n",
       "      <td>2439.532944</td>\n",
       "      <td>1</td>\n",
       "      <td>1</td>\n",
       "      <td>19.124896</td>\n",
       "      <td>72.893503</td>\n",
       "      <td>561</td>\n",
       "    </tr>\n",
       "  </tbody>\n",
       "</table>\n",
       "<p>66250 rows × 11 columns</p>\n",
       "</div>"
      ],
      "text/plain": [
       "       POSTED_BY  UNDER_CONSTRUCTION  RERA  BHK_NO.  BHK_OR_RK     SQUARE_FT  \\\n",
       "0              2                   0     0        1          0    545.171340   \n",
       "1              1                   1     1        2          0    800.000000   \n",
       "2              1                   0     0        2          0   1257.096513   \n",
       "3              1                   0     0        3          0   1400.329489   \n",
       "4              2                   0     0        1          0    430.477830   \n",
       "...          ...                 ...   ...      ...        ...           ...   \n",
       "68715          1                   0     1        2          0    856.555505   \n",
       "68716          1                   0     1        3          0   2304.147465   \n",
       "68717          1                   1     1        1          0  33362.792750   \n",
       "68718          1                   0     0        2          0   1173.708920   \n",
       "68719          1                   0     0        3          0   2439.532944   \n",
       "\n",
       "       READY_TO_MOVE  RESALE  LONGITUDE   LATITUDE  CITY  \n",
       "0                  1       1  21.262000  73.047700   667  \n",
       "1                  0       0  18.966114  73.148278   535  \n",
       "2                  1       1  22.592200  88.484911   524  \n",
       "3                  1       1  26.988300  75.584600   483  \n",
       "4                  1       1  22.700000  72.870000   567  \n",
       "...              ...     ...        ...        ...   ...  \n",
       "68715              1       1  19.180000  72.963330   544  \n",
       "68716              1       1  30.661104  76.746082   557  \n",
       "68717              0       0  19.222101  72.988231   544  \n",
       "68718              1       1  18.496670  73.941670   612  \n",
       "68719              1       1  19.124896  72.893503   561  \n",
       "\n",
       "[66250 rows x 11 columns]"
      ]
     },
     "execution_count": 37,
     "metadata": {},
     "output_type": "execute_result"
    }
   ],
   "source": [
    "# Convert string data into numerical form.\n",
    "le=LabelEncoder()\n",
    "col=[\"POSTED_BY\",\"BHK_OR_RK\",\"CITY\"]\n",
    "for i in col:\n",
    "    Test_data[i]=le.fit_transform(Test_data[i])\n",
    "\n",
    "Test_data"
   ]
  },
  {
   "cell_type": "code",
   "execution_count": 38,
   "id": "a643cafe",
   "metadata": {},
   "outputs": [],
   "source": [
    "sc=StandardScaler()\n",
    "x_test_data=sc.fit_transform(Test_data)"
   ]
  },
  {
   "cell_type": "markdown",
   "id": "9086c87a",
   "metadata": {},
   "source": [
    "### Result:-\n",
    "* Our testing data is ready for model fitting."
   ]
  },
  {
   "cell_type": "markdown",
   "id": "0f77431b",
   "metadata": {},
   "source": [
    "## Model Selection"
   ]
  },
  {
   "cell_type": "markdown",
   "id": "cd89a564",
   "metadata": {},
   "source": [
    "### This is a Regression problem . so we use linear regression for the prediction.\n",
    "### Linear Regression"
   ]
  },
  {
   "cell_type": "code",
   "execution_count": 39,
   "id": "808ef4ae",
   "metadata": {},
   "outputs": [],
   "source": [
    "lr=LinearRegression()\n",
    "lr.fit(x_train_data,y_train_data)\n",
    "\n",
    "y_pred=lr.predict(x_test_data)"
   ]
  },
  {
   "cell_type": "code",
   "execution_count": 40,
   "id": "c5ee4eb7",
   "metadata": {},
   "outputs": [],
   "source": [
    "### This prediction is calculated using log. So for the actual value we need to take an antilog of the predicted value.\n",
    "\n",
    "Y_pred=np.exp(y_pred)\n"
   ]
  },
  {
   "cell_type": "code",
   "execution_count": 41,
   "id": "48644a7b",
   "metadata": {},
   "outputs": [
    {
     "name": "stderr",
     "output_type": "stream",
     "text": [
      "C:\\Users\\shita\\AppData\\Local\\Temp\\ipykernel_7596\\3210802102.py:3: SettingWithCopyWarning: \n",
      "A value is trying to be set on a copy of a slice from a DataFrame.\n",
      "Try using .loc[row_indexer,col_indexer] = value instead\n",
      "\n",
      "See the caveats in the documentation: https://pandas.pydata.org/pandas-docs/stable/user_guide/indexing.html#returning-a-view-versus-a-copy\n",
      "  Test_data[\"Predicted Price (In LACS)\"]=Y_pred\n"
     ]
    },
    {
     "data": {
      "text/html": [
       "<div>\n",
       "<style scoped>\n",
       "    .dataframe tbody tr th:only-of-type {\n",
       "        vertical-align: middle;\n",
       "    }\n",
       "\n",
       "    .dataframe tbody tr th {\n",
       "        vertical-align: top;\n",
       "    }\n",
       "\n",
       "    .dataframe thead th {\n",
       "        text-align: right;\n",
       "    }\n",
       "</style>\n",
       "<table border=\"1\" class=\"dataframe\">\n",
       "  <thead>\n",
       "    <tr style=\"text-align: right;\">\n",
       "      <th></th>\n",
       "      <th>POSTED_BY</th>\n",
       "      <th>UNDER_CONSTRUCTION</th>\n",
       "      <th>RERA</th>\n",
       "      <th>BHK_NO.</th>\n",
       "      <th>BHK_OR_RK</th>\n",
       "      <th>SQUARE_FT</th>\n",
       "      <th>READY_TO_MOVE</th>\n",
       "      <th>RESALE</th>\n",
       "      <th>LONGITUDE</th>\n",
       "      <th>LATITUDE</th>\n",
       "      <th>CITY</th>\n",
       "      <th>Predicted Price (In LACS)</th>\n",
       "    </tr>\n",
       "  </thead>\n",
       "  <tbody>\n",
       "    <tr>\n",
       "      <th>0</th>\n",
       "      <td>2</td>\n",
       "      <td>0</td>\n",
       "      <td>0</td>\n",
       "      <td>1</td>\n",
       "      <td>0</td>\n",
       "      <td>545.171340</td>\n",
       "      <td>1</td>\n",
       "      <td>1</td>\n",
       "      <td>21.262000</td>\n",
       "      <td>73.047700</td>\n",
       "      <td>667</td>\n",
       "      <td>27.590537</td>\n",
       "    </tr>\n",
       "    <tr>\n",
       "      <th>1</th>\n",
       "      <td>1</td>\n",
       "      <td>1</td>\n",
       "      <td>1</td>\n",
       "      <td>2</td>\n",
       "      <td>0</td>\n",
       "      <td>800.000000</td>\n",
       "      <td>0</td>\n",
       "      <td>0</td>\n",
       "      <td>18.966114</td>\n",
       "      <td>73.148278</td>\n",
       "      <td>535</td>\n",
       "      <td>74.726971</td>\n",
       "    </tr>\n",
       "    <tr>\n",
       "      <th>2</th>\n",
       "      <td>1</td>\n",
       "      <td>0</td>\n",
       "      <td>0</td>\n",
       "      <td>2</td>\n",
       "      <td>0</td>\n",
       "      <td>1257.096513</td>\n",
       "      <td>1</td>\n",
       "      <td>1</td>\n",
       "      <td>22.592200</td>\n",
       "      <td>88.484911</td>\n",
       "      <td>524</td>\n",
       "      <td>54.886995</td>\n",
       "    </tr>\n",
       "    <tr>\n",
       "      <th>3</th>\n",
       "      <td>1</td>\n",
       "      <td>0</td>\n",
       "      <td>0</td>\n",
       "      <td>3</td>\n",
       "      <td>0</td>\n",
       "      <td>1400.329489</td>\n",
       "      <td>1</td>\n",
       "      <td>1</td>\n",
       "      <td>26.988300</td>\n",
       "      <td>75.584600</td>\n",
       "      <td>483</td>\n",
       "      <td>86.132283</td>\n",
       "    </tr>\n",
       "    <tr>\n",
       "      <th>4</th>\n",
       "      <td>2</td>\n",
       "      <td>0</td>\n",
       "      <td>0</td>\n",
       "      <td>1</td>\n",
       "      <td>0</td>\n",
       "      <td>430.477830</td>\n",
       "      <td>1</td>\n",
       "      <td>1</td>\n",
       "      <td>22.700000</td>\n",
       "      <td>72.870000</td>\n",
       "      <td>567</td>\n",
       "      <td>24.668765</td>\n",
       "    </tr>\n",
       "    <tr>\n",
       "      <th>...</th>\n",
       "      <td>...</td>\n",
       "      <td>...</td>\n",
       "      <td>...</td>\n",
       "      <td>...</td>\n",
       "      <td>...</td>\n",
       "      <td>...</td>\n",
       "      <td>...</td>\n",
       "      <td>...</td>\n",
       "      <td>...</td>\n",
       "      <td>...</td>\n",
       "      <td>...</td>\n",
       "      <td>...</td>\n",
       "    </tr>\n",
       "    <tr>\n",
       "      <th>68715</th>\n",
       "      <td>1</td>\n",
       "      <td>0</td>\n",
       "      <td>1</td>\n",
       "      <td>2</td>\n",
       "      <td>0</td>\n",
       "      <td>856.555505</td>\n",
       "      <td>1</td>\n",
       "      <td>1</td>\n",
       "      <td>19.180000</td>\n",
       "      <td>72.963330</td>\n",
       "      <td>544</td>\n",
       "      <td>84.880454</td>\n",
       "    </tr>\n",
       "    <tr>\n",
       "      <th>68716</th>\n",
       "      <td>1</td>\n",
       "      <td>0</td>\n",
       "      <td>1</td>\n",
       "      <td>3</td>\n",
       "      <td>0</td>\n",
       "      <td>2304.147465</td>\n",
       "      <td>1</td>\n",
       "      <td>1</td>\n",
       "      <td>30.661104</td>\n",
       "      <td>76.746082</td>\n",
       "      <td>557</td>\n",
       "      <td>95.568139</td>\n",
       "    </tr>\n",
       "    <tr>\n",
       "      <th>68717</th>\n",
       "      <td>1</td>\n",
       "      <td>1</td>\n",
       "      <td>1</td>\n",
       "      <td>1</td>\n",
       "      <td>0</td>\n",
       "      <td>33362.792750</td>\n",
       "      <td>0</td>\n",
       "      <td>0</td>\n",
       "      <td>19.222101</td>\n",
       "      <td>72.988231</td>\n",
       "      <td>544</td>\n",
       "      <td>45.775137</td>\n",
       "    </tr>\n",
       "    <tr>\n",
       "      <th>68718</th>\n",
       "      <td>1</td>\n",
       "      <td>0</td>\n",
       "      <td>0</td>\n",
       "      <td>2</td>\n",
       "      <td>0</td>\n",
       "      <td>1173.708920</td>\n",
       "      <td>1</td>\n",
       "      <td>1</td>\n",
       "      <td>18.496670</td>\n",
       "      <td>73.941670</td>\n",
       "      <td>612</td>\n",
       "      <td>75.414467</td>\n",
       "    </tr>\n",
       "    <tr>\n",
       "      <th>68719</th>\n",
       "      <td>1</td>\n",
       "      <td>0</td>\n",
       "      <td>0</td>\n",
       "      <td>3</td>\n",
       "      <td>0</td>\n",
       "      <td>2439.532944</td>\n",
       "      <td>1</td>\n",
       "      <td>1</td>\n",
       "      <td>19.124896</td>\n",
       "      <td>72.893503</td>\n",
       "      <td>561</td>\n",
       "      <td>118.960533</td>\n",
       "    </tr>\n",
       "  </tbody>\n",
       "</table>\n",
       "<p>66250 rows × 12 columns</p>\n",
       "</div>"
      ],
      "text/plain": [
       "       POSTED_BY  UNDER_CONSTRUCTION  RERA  BHK_NO.  BHK_OR_RK     SQUARE_FT  \\\n",
       "0              2                   0     0        1          0    545.171340   \n",
       "1              1                   1     1        2          0    800.000000   \n",
       "2              1                   0     0        2          0   1257.096513   \n",
       "3              1                   0     0        3          0   1400.329489   \n",
       "4              2                   0     0        1          0    430.477830   \n",
       "...          ...                 ...   ...      ...        ...           ...   \n",
       "68715          1                   0     1        2          0    856.555505   \n",
       "68716          1                   0     1        3          0   2304.147465   \n",
       "68717          1                   1     1        1          0  33362.792750   \n",
       "68718          1                   0     0        2          0   1173.708920   \n",
       "68719          1                   0     0        3          0   2439.532944   \n",
       "\n",
       "       READY_TO_MOVE  RESALE  LONGITUDE   LATITUDE  CITY  \\\n",
       "0                  1       1  21.262000  73.047700   667   \n",
       "1                  0       0  18.966114  73.148278   535   \n",
       "2                  1       1  22.592200  88.484911   524   \n",
       "3                  1       1  26.988300  75.584600   483   \n",
       "4                  1       1  22.700000  72.870000   567   \n",
       "...              ...     ...        ...        ...   ...   \n",
       "68715              1       1  19.180000  72.963330   544   \n",
       "68716              1       1  30.661104  76.746082   557   \n",
       "68717              0       0  19.222101  72.988231   544   \n",
       "68718              1       1  18.496670  73.941670   612   \n",
       "68719              1       1  19.124896  72.893503   561   \n",
       "\n",
       "       Predicted Price (In LACS)  \n",
       "0                      27.590537  \n",
       "1                      74.726971  \n",
       "2                      54.886995  \n",
       "3                      86.132283  \n",
       "4                      24.668765  \n",
       "...                          ...  \n",
       "68715                  84.880454  \n",
       "68716                  95.568139  \n",
       "68717                  45.775137  \n",
       "68718                  75.414467  \n",
       "68719                 118.960533  \n",
       "\n",
       "[66250 rows x 12 columns]"
      ]
     },
     "execution_count": 41,
     "metadata": {},
     "output_type": "execute_result"
    }
   ],
   "source": [
    "### Now store this Predicted value of testing data in new variable.\n",
    "\n",
    "Test_data[\"Predicted Price (In LACS)\"]=Y_pred\n",
    "\n",
    "Test_data"
   ]
  },
  {
   "cell_type": "code",
   "execution_count": null,
   "id": "d779d0b6",
   "metadata": {},
   "outputs": [],
   "source": []
  }
 ],
 "metadata": {
  "kernelspec": {
   "display_name": "Python 3 (ipykernel)",
   "language": "python",
   "name": "python3"
  },
  "language_info": {
   "codemirror_mode": {
    "name": "ipython",
    "version": 3
   },
   "file_extension": ".py",
   "mimetype": "text/x-python",
   "name": "python",
   "nbconvert_exporter": "python",
   "pygments_lexer": "ipython3",
   "version": "3.9.12"
  }
 },
 "nbformat": 4,
 "nbformat_minor": 5
}
